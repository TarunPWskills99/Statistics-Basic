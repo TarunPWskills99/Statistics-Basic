{
  "nbformat": 4,
  "nbformat_minor": 0,
  "metadata": {
    "colab": {
      "provenance": []
    },
    "kernelspec": {
      "name": "python3",
      "display_name": "Python 3"
    },
    "language_info": {
      "name": "python"
    }
  },
  "cells": [
    {
      "cell_type": "markdown",
      "source": [
        "Question 1: What is the difference between descriptive statistics and inferential\n",
        "statistics? Explain with examples.\n",
        "\n",
        "Answer: **Descriptive statistics** involves summarizing and describing the main features of a data set, such as measures of central tendency (mean, median, mode) and measures of dispersion (range, standard deviation, variance). Descriptive statistics is used to provide a snapshot or summary of the data, in order to gain an understanding of the characteristics and patterns of the data set.\n",
        "\n",
        "\n",
        "*   Examples of descriptive statistics include calculating the mean height of a\n",
        "group of people or the standard deviation of their weights.\n",
        "\n",
        "\n",
        "\n",
        "\n",
        "**Inferential statistics**, on the other hand, involves using statistical methods to make inferences or draw conclusions about a population based on a sample of data. Inferential statistics is used to test hypotheses or answer research questions, by making predictions or generalizations about a larger group based on a smaller subset of data.\n",
        "\n",
        "*   Examples of inferential statistics include hypothesis testing, confidence intervals, and regression analysis."
      ],
      "metadata": {
        "id": "8NXwC941bkFg"
      }
    },
    {
      "cell_type": "markdown",
      "source": [
        "Question 2: What is sampling in statistics? Explain the differences between random\n",
        "and stratified sampling.\n",
        "\n",
        "Answer:   **Sampling in Statistics -**\n",
        "Sampling is the process of selecting a subset (called a sample) from a larger group (called the population) to make inferences about the whole population. Since it is often impractical or impossible to collect data from every individual in a population, sampling provides a manageable and cost-effective way to gather information while still allowing valid conclusions.\n",
        "\n",
        "**Random Sampling**\n",
        "\n",
        "\n",
        "*   In random sampling, every member of the population has an equal chance of being selected.\n",
        "*   It avoids bias because the selection is completely by chance.\n",
        "\n",
        "*   Example: Choosing 100 students at random from a university by using a random number generator.\n",
        "\n",
        "**Stratified Sampling**\n",
        "\n",
        "\n",
        "*  In stratified sampling, the population is divided into groups (called strata) based on specific characteristics (e.g., age, gender, income level).\n",
        "\n",
        "*   A random sample is then taken from each stratum, often in proportion to its size in the population.\n",
        "*   This method ensures that all subgroups are represented.\n",
        "\n",
        "\n",
        "*   Example: Dividing students into strata by year (freshman, sophomore, etc.) and then randomly selecting students from each year.\n",
        "\n",
        "\n",
        "\n",
        "\n",
        "\n",
        "\n"
      ],
      "metadata": {
        "id": "FE291XskcE-j"
      }
    },
    {
      "cell_type": "markdown",
      "source": [
        "Question 3: Define mean, median, and mode. Explain why these measures of central\n",
        "\n",
        "tendency are important.\n",
        "\n",
        "Answer:\n",
        "\n",
        "*   The mean, median, and mode are all measures of central tendency, but they differ in how they represent the center of a dataset.\n",
        "\n",
        "*   The mean is the arithmetic average of a set of values. It is calculated by adding up all the values in the dataset and dividing by the total number of values. The mean is sensitive to extreme values, which means that a few unusually high or low values can significantly impact the mean.\n",
        "*   The median is the middle value in a dataset when the values are arranged in order from smallest to largest. If there is an even number of values, the median is the average of the two middle values. The median is a good measure of central tendency when the dataset contains extreme values or outliers, as it is not affected by these values.\n",
        "\n",
        "*   The mode is the value that appears most frequently in a dataset. A dataset can have more than one mode if there are multiple values that appear with the same frequency. The mode is a good measure of central tendency for categorical data or discrete variables.\n",
        "\n",
        "*   To measure the central tendency of a dataset, you can use any of these measures depending on the nature of the data and the research question you are trying to answer. The mean is commonly used for continuous variables that are normally distributed, while the median is often used for skewed data or when outliers are present. The mode is useful for categorical data or when you want to know the most common value in a dataset.\n",
        "\n",
        "\n",
        "\n"
      ],
      "metadata": {
        "id": "f7P1t0uodvFD"
      }
    },
    {
      "cell_type": "markdown",
      "source": [
        "Question 4: Explain skewness and kurtosis. What does a positive skew imply about the\n",
        "data?\n",
        "\n",
        "Answer:\n",
        "\n",
        "*   **Skewness** is a statistical measure that describes the asymmetry of a distribution around its mean. When a distribution is symmetrical, the mean, median, and mode are equal, and the skewness is zero, as in the case of a normal distribution. If the distribution is positively skewed, the right tail is longer, meaning most values are concentrated on the lower side but a few exceptionally large values pull the mean to the right. In contrast, a negatively skewed distribution has a longer left tail, where most values are higher but a few very small values pull the mean to the left.\n",
        "*   **Kurtosis**, on the other hand, measures the degree to which a distribution is more or less peaked compared to the normal distribution. A mesokurtic distribution, with kurtosis around three, has a shape similar to the normal curve. A leptokurtic distribution, with kurtosis greater than three, has heavier tails and a sharper peak, indicating more extreme values or outliers. A platykurtic distribution, with kurtosis less than three, has lighter tails and a flatter peak, suggesting fewer extreme values.\n",
        "\n",
        "*   **A positive skew** in data implies that the distribution has a long right tail. This means that while most observations are relatively low, a small number of unusually high values exist, which pull the mean above the median and the mode. In practical terms, a positively skewed dataset often indicates the presence of a few large outliers, such as very high incomes in a population where most people earn much less.\n",
        "\n",
        "\n",
        "\n",
        "\n"
      ],
      "metadata": {
        "id": "elVp02xrea2T"
      }
    },
    {
      "cell_type": "code",
      "source": [
        "#Practical question\n",
        "'''\n",
        "Question 5: Implement a Python program to compute the mean, median, and mode of\n",
        "a given list of numbers.\n",
        "numbers = [12, 15, 12, 18, 19, 12, 20, 22, 19, 19, 24, 24, 24, 26, 28]\n",
        "\n",
        "'''\n",
        "'''\n",
        "Answere:\n",
        "'''\n",
        "\n",
        "import statistics as stats\n",
        "\n",
        "# Given list of numbers\n",
        "numbers = [12, 15, 12, 18, 19, 12, 20, 22, 19, 19, 24, 24, 24, 26, 28]\n",
        "\n",
        "# Calculations\n",
        "mean_value = stats.mean(numbers)\n",
        "median_value = stats.median(numbers)\n",
        "mode_value = stats.mode(numbers)\n",
        "\n",
        "# Display results\n",
        "print(\"Numbers:\", numbers)\n",
        "print(\"Mean:\", mean_value)\n",
        "print(\"Median:\", median_value)\n",
        "print(\"Mode:\", mode_value)\n"
      ],
      "metadata": {
        "colab": {
          "base_uri": "https://localhost:8080/"
        },
        "id": "BP4IGqRrfmvw",
        "outputId": "022bf064-2141-4549-cee3-be2ba8bc4263"
      },
      "execution_count": 1,
      "outputs": [
        {
          "output_type": "stream",
          "name": "stdout",
          "text": [
            "Numbers: [12, 15, 12, 18, 19, 12, 20, 22, 19, 19, 24, 24, 24, 26, 28]\n",
            "Mean: 19.6\n",
            "Median: 19\n",
            "Mode: 12\n"
          ]
        }
      ]
    },
    {
      "cell_type": "code",
      "source": [
        "#Practical question\n",
        "'''\n",
        "Question 6: Compute the covariance and correlation coefficient between the following\n",
        "two datasets provided as lists in Python:\n",
        "list_x = [10, 20, 30, 40, 50]\n",
        "list_y = [15, 25, 35, 45, 60]\n",
        "\n",
        "'''\n",
        "'''\n",
        "Answere:\n",
        "'''\n",
        "import numpy as np\n",
        "\n",
        "# Given lists\n",
        "list_x = [10, 20, 30, 40, 50]\n",
        "list_y = [15, 25, 35, 45, 60]\n",
        "\n",
        "# Convert to numpy arrays\n",
        "x = np.array(list_x)\n",
        "y = np.array(list_y)\n",
        "\n",
        "# Compute covariance matrix\n",
        "cov_matrix = np.cov(x, y, bias=False)   # bias=False gives sample covariance\n",
        "covariance = cov_matrix[0, 1]\n",
        "\n",
        "# Compute correlation coefficient\n",
        "correlation = np.corrcoef(x, y)[0, 1]\n",
        "\n",
        "# Display results\n",
        "print(\"List X:\", list_x)\n",
        "print(\"List Y:\", list_y)\n",
        "print(\"Covariance:\", covariance)\n",
        "print(\"Correlation Coefficient:\", correlation)\n"
      ],
      "metadata": {
        "colab": {
          "base_uri": "https://localhost:8080/"
        },
        "id": "4R_pyOisgSUI",
        "outputId": "61de1657-5c6b-4edc-9f23-c380dbefb111"
      },
      "execution_count": 2,
      "outputs": [
        {
          "output_type": "stream",
          "name": "stdout",
          "text": [
            "List X: [10, 20, 30, 40, 50]\n",
            "List Y: [15, 25, 35, 45, 60]\n",
            "Covariance: 275.0\n",
            "Correlation Coefficient: 0.995893206467704\n"
          ]
        }
      ]
    },
    {
      "cell_type": "code",
      "source": [
        "#Practical question\n",
        "'''\n",
        "Question 7: Write a Python script to draw a boxplot for the following numeric list and\n",
        "identify its outliers. Explain the result:\n",
        "data = [12, 14, 14, 15, 18, 19, 19, 21, 22, 22, 23, 23, 24, 26, 29, 35]\n",
        "\n",
        "'''\n",
        "'''\n",
        "Answere:7\n",
        "'''\n",
        "import matplotlib.pyplot as plt\n",
        "import seaborn as sns\n",
        "\n",
        "# Given data\n",
        "data = [12, 14, 14, 15, 18, 19, 19, 21, 22, 22, 23, 23, 24, 26, 29, 35]\n",
        "\n",
        "# Create a boxplot\n",
        "sns.boxplot(data=data)\n",
        "plt.title(\"Boxplot of Data\")\n",
        "plt.show()\n"
      ],
      "metadata": {
        "colab": {
          "base_uri": "https://localhost:8080/",
          "height": 433
        },
        "id": "8SB7rDFQgzBG",
        "outputId": "fec41c58-177e-4518-e8ac-43d171117a6c"
      },
      "execution_count": 3,
      "outputs": [
        {
          "output_type": "display_data",
          "data": {
            "text/plain": [
              "<Figure size 640x480 with 1 Axes>"
            ],
            "image/png": "[encoded data removed]"
          },
          "metadata": {}
        }
      ]
    },
    {
      "cell_type": "markdown",
      "source": [
        "Question 8: You are working as a data analyst in an e-commerce company. The\n",
        "marketing team wants to know if there is a relationship between advertising spend and\n",
        "daily sales.\n",
        "*   Explain how you would use covariance and correlation to explore this\n",
        "relationship.\n",
        "*   Write Python code to compute the correlation between the two lists:\n",
        "advertising_spend = [200, 250, 300, 400, 500]\n",
        "daily_sales = [2200, 2450, 2750, 3200, 4000]\n",
        "\n",
        "Answere:\n",
        "**Covariance:**\n",
        "*   Covariance tells us the direction of the relationship.\n",
        "*   A positive covariance means that as advertising spend increases, daily sales also increase.\n",
        "*   A negative covariance means that as advertising spend increases, daily sales decrease.\n",
        "*  However, covariance does not indicate the strength of the relationship because its value depends on the scale of the data.\n",
        "\n",
        "**Correlation:**\n",
        "*   Correlation standardizes covariance by dividing it by the product of the standard deviations of the two variables.\n",
        "*   It ranges between –1 and +1.\n",
        "*   A value close to +1 indicates a strong positive linear relationship (higher advertising spend leads to higher sales).\n",
        "*   A value close to –1 indicates a strong negative relationship.\n",
        "*   A value near 0 indicates no linear relationship.\n",
        "\n",
        "\n",
        "\n",
        "\n"
      ],
      "metadata": {
        "id": "FdnSquffhu29"
      }
    },
    {
      "cell_type": "code",
      "source": [
        "import numpy as np\n",
        "\n",
        "# Given data\n",
        "advertising_spend = [200, 250, 300, 400, 500]\n",
        "daily_sales = [2200, 2450, 2750, 3200, 4000]\n",
        "\n",
        "# Convert to numpy arrays\n",
        "x = np.array(advertising_spend)\n",
        "y = np.array(daily_sales)\n",
        "\n",
        "# Compute covariance\n",
        "cov_matrix = np.cov(x, y, bias=False)\n",
        "covariance = cov_matrix[0, 1]\n",
        "\n",
        "# Compute correlation coefficient\n",
        "correlation = np.corrcoef(x, y)[0, 1]\n",
        "\n",
        "# Display results\n",
        "print(\"Advertising Spend:\", advertising_spend)\n",
        "print(\"Daily Sales:\", daily_sales)\n",
        "print(\"Covariance:\", covariance)\n",
        "print(\"Correlation Coefficient:\", correlation)\n"
      ],
      "metadata": {
        "colab": {
          "base_uri": "https://localhost:8080/"
        },
        "id": "DkJf87HAhQ-c",
        "outputId": "1dac8d8e-5b1e-4081-93e6-451e39219a1e"
      },
      "execution_count": 4,
      "outputs": [
        {
          "output_type": "stream",
          "name": "stdout",
          "text": [
            "Advertising Spend: [200, 250, 300, 400, 500]\n",
            "Daily Sales: [2200, 2450, 2750, 3200, 4000]\n",
            "Covariance: 84875.0\n",
            "Correlation Coefficient: 0.9935824101653329\n"
          ]
        }
      ]
    },
    {
      "cell_type": "markdown",
      "source": [
        "Question 9: Your team has collected customer satisfaction survey data on a scale of\n",
        "1-10 and wants to understand its distribution before launching a new product.\n",
        "*  Explain which summary statistics and visualizations (e.g. mean, standard\n",
        "deviation, histogram) you’d use.\n",
        "*   Write Python code to create a histogram using Matplotlib for the survey data:\n",
        "survey_scores = [7, 8, 5, 9, 6, 7, 8, 9, 10, 4, 7, 6, 9, 8, 7]\n",
        "\n",
        "Answer: To understand the distribution of customer satisfaction survey scores (on a scale of 1–10), I would use both summary statistics and visualizations:\n",
        "\n",
        "**Summary Statistics:**\n",
        "*   Mean: Gives the average satisfaction level.\n",
        "*   Median: Shows the middle score, useful if the data is skewed.\n",
        "*   Mode: Identifies the most common rating.\n",
        "*   Standard Deviation (SD): Measures how spread out the scores are. A low SD means customers generally agree, while a high SD means opinions are more varied.\n",
        "*   Minimum and Maximum: Show the range of responses.\n",
        "\n",
        "**Visualizations:**\n",
        "*   Histogram: Displays the frequency of each score, showing how scores are distributed.\n",
        "*   Boxplot: Useful to detect outliers and understand score spread."
      ],
      "metadata": {
        "id": "gvglyep_jKlz"
      }
    },
    {
      "cell_type": "code",
      "source": [
        "import matplotlib.pyplot as plt\n",
        "\n",
        "# Given survey data\n",
        "survey_scores = [7, 8, 5, 9, 6, 7, 8, 9, 10, 4, 7, 6, 9, 8, 7]\n",
        "\n",
        "# Create histogram\n",
        "plt.hist(survey_scores, bins=6, color='skyblue', edgecolor='black')\n",
        "plt.title(\"Distribution of Customer Satisfaction Scores\")\n",
        "plt.xlabel(\"Survey Scores (1-10)\")\n",
        "plt.ylabel(\"Frequency\")\n",
        "plt.show()\n"
      ],
      "metadata": {
        "colab": {
          "base_uri": "https://localhost:8080/",
          "height": 472
        },
        "id": "Q3lgV0WgkPco",
        "outputId": "2c7ccfae-11bc-4f89-b082-54d0114d80e8"
      },
      "execution_count": 5,
      "outputs": [
        {
          "output_type": "display_data",
          "data": {
            "text/plain": [
              "<Figure size 640x480 with 1 Axes>"
            ],
            "image/png": "[encoded data removed]"
          },
          "metadata": {}
        }
      ]
    }
  ]
}